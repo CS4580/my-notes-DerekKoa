{
 "cells": [
  {
   "cell_type": "markdown",
   "metadata": {},
   "source": [
    "## iterables\n",
    "- includes comprehensions iterable objects and iterates\n",
    "- lazy evaluation model with generators\n",
    "\n",
    "### list comprehensions\n",
    "comprehensions will make code more readable, expressive and readable\n"
   ]
  },
  {
   "cell_type": "code",
   "execution_count": 2,
   "metadata": {},
   "outputs": [
    {
     "data": {
      "text/plain": [
       "['Today', 'i', 'am', 'happy', 'to', 'learn', 'about', 'comprehensions']"
      ]
     },
     "execution_count": 2,
     "metadata": {},
     "output_type": "execute_result"
    }
   ],
   "source": [
    "#a big string\n",
    "words = \"Today i am happy to learn about comprehensions\".split()\n",
    "words"
   ]
  },
  {
   "cell_type": "code",
   "execution_count": 5,
   "metadata": {},
   "outputs": [
    {
     "name": "stdout",
     "output_type": "stream",
     "text": [
      "['Today', 'i', 'am', 'happy', 'to', 'learn', 'about', 'comprehensions']\n",
      "[5, 1, 2, 5, 2, 5, 5, 14]\n"
     ]
    }
   ],
   "source": [
    "# create a new list of with of length of each string\n",
    "lengths = []\n",
    "for element in words:\n",
    "    lengths.append(len(element))\n",
    "print(words)\n",
    "print(lengths)"
   ]
  },
  {
   "cell_type": "code",
   "execution_count": 7,
   "metadata": {},
   "outputs": [
    {
     "name": "stdout",
     "output_type": "stream",
     "text": [
      "[5, 1, 2, 5, 2, 5, 5, 14]\n"
     ]
    }
   ],
   "source": [
    "#use a list comprehension instead\n",
    "lengths = [len(word) for word in words]\n",
    "print(lengths)"
   ]
  },
  {
   "cell_type": "code",
   "execution_count": 24,
   "metadata": {},
   "outputs": [
    {
     "name": "stdout",
     "output_type": "stream",
     "text": [
      "[1, 1, 1, 2, 3, 3, 4, 5, 6, 7, 8, 9, 10, 11, 13, 14, 15, 16, 18, 19]\n",
      "20\n"
     ]
    }
   ],
   "source": [
    "# using a comprension, claculate the length the length of the first 1-20 factoiral number\n",
    "import math\n",
    "fact_length = [len(str(math.factorial(number))) for number in range(1,21) ]\n",
    "print(fact_length)\n",
    "print(len(fact_length))\n"
   ]
  },
  {
   "cell_type": "markdown",
   "metadata": {},
   "source": [
    "## set comprehensions\n",
    "\n",
    "- general form:\n",
    "```\n",
    "{exp(item) for item in iterable}"
   ]
  },
  {
   "cell_type": "code",
   "execution_count": 27,
   "metadata": {},
   "outputs": [
    {
     "name": "stdout",
     "output_type": "stream",
     "text": [
      "{1, 2, 3, 4, 5, 6, 7, 8, 9, 10, 11, 13, 14, 15, 16, 18, 19, 20, 22, 23, 24, 26, 27, 29, 30, 31, 33, 34, 36, 37, 39, 41, 42, 44, 45, 47, 48, 50, 52, 53, 55, 57, 58, 60, 62, 63, 65, 67, 68, 70, 72, 74, 75, 77, 79, 81, 82, 84, 86, 88, 90, 91, 93, 95, 97, 99, 101, 102, 104, 106, 108, 110, 112, 114, 116, 117, 119, 121, 123, 125, 127, 129, 131, 133, 135, 137, 139, 141, 143, 145, 147, 149, 150, 152, 154, 156, 158, 160, 162, 164, 167, 169, 171, 173, 175, 177, 179, 181, 183, 185, 187, 189, 191, 193, 195, 197, 199, 201, 203, 206, 208, 210, 212, 214, 216, 218, 220, 222, 225, 227, 229, 231, 233, 235, 237, 239, 242, 244, 246, 248, 250, 252, 255, 257, 259, 261, 263, 265, 268, 270, 272, 274, 276, 279, 281, 283, 285, 287, 290, 292, 294, 296, 298, 301, 303, 305, 307, 310, 312, 314, 316, 319, 321, 323, 325, 328, 330, 332, 334, 337, 339, 341, 343, 346, 348, 350, 352, 355, 357, 359, 362, 364, 366, 369, 371, 373, 375, 378, 380, 382, 385, 387, 389, 392, 394, 396}\n"
     ]
    }
   ],
   "source": [
    "#create a list of unique lengths of the first 20 factorial\n",
    "fact_length = {len(str(math.factorial(number))) for number in range(1,210) }\n",
    "print(fact_length)"
   ]
  },
  {
   "cell_type": "markdown",
   "metadata": {},
   "source": [
    "## dict comprehensions\n",
    "\n",
    "general form:\n",
    "```\n",
    "{key_expr:value for item in iterable}\n"
   ]
  },
  {
   "cell_type": "code",
   "execution_count": 30,
   "metadata": {},
   "outputs": [
    {
     "name": "stdout",
     "output_type": "stream",
     "text": [
      "{'Warriors': 'SF', 'Lakers': 'LA', 'Jazz': 'SLC'}\n"
     ]
    },
    {
     "ename": "NameError",
     "evalue": "name 'team' is not defined",
     "output_type": "error",
     "traceback": [
      "\u001b[1;31m---------------------------------------------------------------------------\u001b[0m",
      "\u001b[1;31mNameError\u001b[0m                                 Traceback (most recent call last)",
      "Cell \u001b[1;32mIn[30], line 5\u001b[0m\n\u001b[0;32m      3\u001b[0m teams_nba \u001b[38;5;241m=\u001b[39m {city:mascot \u001b[38;5;28;01mfor\u001b[39;00m mascot, city \u001b[38;5;129;01min\u001b[39;00m nba_teams\u001b[38;5;241m.\u001b[39mitems()}\n\u001b[0;32m      4\u001b[0m \u001b[38;5;28mprint\u001b[39m(nba_teams)\n\u001b[1;32m----> 5\u001b[0m \u001b[38;5;28mprint\u001b[39m(\u001b[43mteam\u001b[49m)\n",
      "\u001b[1;31mNameError\u001b[0m: name 'team' is not defined"
     ]
    }
   ],
   "source": [
    "nba_teams = {'Warriors': 'SF', 'Lakers': 'LA','Jazz':'SLC'}\n",
    "# create a dict comp\n",
    "teams_nba = {city:mascot for mascot, city in nba_teams.items()}\n",
    "print(nba_teams)\n",
    "print(teams_nba)"
   ]
  },
  {
   "cell_type": "markdown",
   "metadata": {},
   "source": [
    "### Filtering predicates\n",
    "\n",
    "- `optional` filtering predicate\n",
    "General Form:\n",
    "```\n",
    "[exp(item) for item item in iteratble if predicate(item)]"
   ]
  },
  {
   "cell_type": "code",
   "execution_count": 35,
   "metadata": {},
   "outputs": [
    {
     "name": "stdout",
     "output_type": "stream",
     "text": [
      "[2, 3, 5, 7, 11, 13, 17, 19, 23, 29, 31, 37, 41, 43, 47, 53, 59, 61, 67, 71, 73, 79, 83, 89, 97]\n"
     ]
    }
   ],
   "source": [
    "from math import sqrt\n",
    "def is_prime(number):\n",
    "    if number < 2:\n",
    "        return False\n",
    "    for i in range(2, int(sqrt(number)) + 1):\n",
    "        if number % i == 0:\n",
    "            return False\n",
    "    return True\n",
    "\n",
    "primes = [item for item in range(0,101) if is_prime(item)]\n",
    "    \n",
    "print(primes)\n",
    "\n",
    "# simple is better than complex\n",
    "#code is written once but read over and over\n",
    "# fewer is clearer"
   ]
  },
  {
   "cell_type": "code",
   "execution_count": 37,
   "metadata": {},
   "outputs": [],
   "source": [
    "import this # zen of python"
   ]
  },
  {
   "cell_type": "markdown",
   "metadata": {},
   "source": [
    "#TODO:\n",
    "- iteration protocols\n",
    "- gnerators"
   ]
  }
 ],
 "metadata": {
  "kernelspec": {
   "display_name": "module4",
   "language": "python",
   "name": "python3"
  },
  "language_info": {
   "codemirror_mode": {
    "name": "ipython",
    "version": 3
   },
   "file_extension": ".py",
   "mimetype": "text/x-python",
   "name": "python",
   "nbconvert_exporter": "python",
   "pygments_lexer": "ipython3",
   "version": "3.12.5"
  }
 },
 "nbformat": 4,
 "nbformat_minor": 2
}
